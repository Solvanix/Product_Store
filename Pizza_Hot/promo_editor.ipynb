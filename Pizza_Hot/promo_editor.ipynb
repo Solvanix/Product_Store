{
 "cells": [
  {
   "cell_type": "code",
   "execution_count": 1,
   "id": "c5a150d3-fe6a-4a5d-b51e-d8c12570a456",
   "metadata": {},
   "outputs": [
    {
     "name": "stderr",
     "output_type": "stream",
     "text": [
      "2025-06-30 13:17:59.594602: I tensorflow/core/util/port.cc:113] oneDNN custom operations are on. You may see slightly different numerical results due to floating-point round-off errors from different computation orders. To turn them off, set the environment variable `TF_ENABLE_ONEDNN_OPTS=0`.\n",
      "2025-06-30 13:17:59.919106: E external/local_xla/xla/stream_executor/cuda/cuda_dnn.cc:10575] Unable to register cuDNN factory: Attempting to register factory for plugin cuDNN when one has already been registered\n",
      "2025-06-30 13:17:59.919216: E external/local_xla/xla/stream_executor/cuda/cuda_fft.cc:479] Unable to register cuFFT factory: Attempting to register factory for plugin cuFFT when one has already been registered\n",
      "2025-06-30 13:18:00.059118: E external/local_xla/xla/stream_executor/cuda/cuda_blas.cc:1442] Unable to register cuBLAS factory: Attempting to register factory for plugin cuBLAS when one has already been registered\n",
      "2025-06-30 13:18:00.224891: I tensorflow/core/platform/cpu_feature_guard.cc:210] This TensorFlow binary is optimized to use available CPU instructions in performance-critical operations.\n",
      "To enable the following instructions: SSE4.1 SSE4.2 AVX AVX2 AVX512F AVX512_VNNI FMA, in other operations, rebuild TensorFlow with the appropriate compiler flags.\n"
     ]
    },
    {
     "name": "stdout",
     "output_type": "stream",
     "text": [
      "✅ تم تفعيل Memory Growth على جميع وحدات GPU\n"
     ]
    },
    {
     "name": "stderr",
     "output_type": "stream",
     "text": [
      "2025-06-30 13:18:19.622486: I external/local_xla/xla/stream_executor/cuda/cuda_executor.cc:984] could not open file to read NUMA node: /sys/bus/pci/devices/0000:01:00.0/numa_node\n",
      "Your kernel may have been built without NUMA support.\n",
      "2025-06-30 13:18:20.577352: I external/local_xla/xla/stream_executor/cuda/cuda_executor.cc:984] could not open file to read NUMA node: /sys/bus/pci/devices/0000:01:00.0/numa_node\n",
      "Your kernel may have been built without NUMA support.\n",
      "2025-06-30 13:18:20.577589: I external/local_xla/xla/stream_executor/cuda/cuda_executor.cc:984] could not open file to read NUMA node: /sys/bus/pci/devices/0000:01:00.0/numa_node\n",
      "Your kernel may have been built without NUMA support.\n"
     ]
    }
   ],
   "source": [
    "# ==== خلية 1: تهيئة GPU للسماح بنمو الذاكرة تدريجيًا ====\n",
    "import tensorflow as tf\n",
    "\n",
    "# احصل على قائمة وحدات الـ GPU\n",
    "gpus = tf.config.experimental.list_physical_devices('GPU')\n",
    "if gpus:\n",
    "    try:\n",
    "        # فعّل الخاصية لكل GPU\n",
    "        for gpu in gpus:\n",
    "            tf.config.experimental.set_memory_growth(gpu, True)\n",
    "        print(\"✅ تم تفعيل Memory Growth على جميع وحدات GPU\")\n",
    "    except RuntimeError as e:\n",
    "        print(\"❌ حدث خطأ أثناء تهيئة الـ GPU:\", e)\n",
    "else:\n",
    "    print(\"⚠️ لا يوجد GPU متاح للتهيئة.\")\n"
   ]
  },
  {
   "cell_type": "code",
   "execution_count": 2,
   "id": "84a50878-f081-485d-a1eb-8c28d5152f14",
   "metadata": {},
   "outputs": [
    {
     "ename": "FileNotFoundError",
     "evalue": "[Errno 2] No such file or directory: 'Pizza_Hot/promo_offer.html'",
     "output_type": "error",
     "traceback": [
      "\u001b[0;31m---------------------------------------------------------------------------\u001b[0m",
      "\u001b[0;31mFileNotFoundError\u001b[0m                         Traceback (most recent call last)",
      "Cell \u001b[0;32mIn[2], line 9\u001b[0m\n\u001b[1;32m      6\u001b[0m html_path \u001b[38;5;241m=\u001b[39m \u001b[38;5;124m\"\u001b[39m\u001b[38;5;124mPizza_Hot/promo_offer.html\u001b[39m\u001b[38;5;124m\"\u001b[39m\n\u001b[1;32m      8\u001b[0m \u001b[38;5;66;03m# 1. قراءة المحتوى\u001b[39;00m\n\u001b[0;32m----> 9\u001b[0m \u001b[38;5;28;01mwith\u001b[39;00m \u001b[43mio\u001b[49m\u001b[38;5;241;43m.\u001b[39;49m\u001b[43mopen\u001b[49m\u001b[43m(\u001b[49m\u001b[43mhtml_path\u001b[49m\u001b[43m,\u001b[49m\u001b[43m \u001b[49m\u001b[38;5;124;43m\"\u001b[39;49m\u001b[38;5;124;43mr\u001b[39;49m\u001b[38;5;124;43m\"\u001b[39;49m\u001b[43m,\u001b[49m\u001b[43m \u001b[49m\u001b[43mencoding\u001b[49m\u001b[38;5;241;43m=\u001b[39;49m\u001b[38;5;124;43m\"\u001b[39;49m\u001b[38;5;124;43mutf-8\u001b[39;49m\u001b[38;5;124;43m\"\u001b[39;49m\u001b[43m)\u001b[49m \u001b[38;5;28;01mas\u001b[39;00m f:\n\u001b[1;32m     10\u001b[0m     html \u001b[38;5;241m=\u001b[39m f\u001b[38;5;241m.\u001b[39mread()\n\u001b[1;32m     12\u001b[0m \u001b[38;5;66;03m# 2. توحيد اسم البراند: أي كلمة تبدأ بـ Pizza* تصبح PIZZA HOT\u001b[39;00m\n",
      "\u001b[0;31mFileNotFoundError\u001b[0m: [Errno 2] No such file or directory: 'Pizza_Hot/promo_offer.html'"
     ]
    }
   ],
   "source": [
    "# ==== خلية 2: قراءة promo_offer.html وتطبيق التعديلات المنصوح بها ====\n",
    "\n",
    "import io, re\n",
    "\n",
    "# مسار الملف\n",
    "html_path = \"Pizza_Hot/promo_offer.html\"\n",
    "\n",
    "# 1. قراءة المحتوى\n",
    "with io.open(html_path, \"r\", encoding=\"utf-8\") as f:\n",
    "    html = f.read()\n",
    "\n",
    "# 2. توحيد اسم البراند: أي كلمة تبدأ بـ Pizza* تصبح PIZZA HOT\n",
    "html = re.sub(r'(?i)Pizza\\s*(King|Hot|[^\\s<]+)', 'PIZZA HOT', html)\n",
    "\n",
    "# 3. تصحيح الأسعار حسب الاتفاق:\n",
    "#    - العرض العائلي: 79₪ ⟶ 60₪\n",
    "#    - بيتزا دجاج XL:    79₪ ⟶ 70₪\n",
    "html = html.replace(\n",
    "    '<span class=\"old-price\">79₪</span> ⟶ <span class=\"new-price\">69₪',\n",
    "    '<span class=\"old-price\">79₪</span> ⟶ <span class=\"new-price\">60₪'\n",
    ")\n",
    "html = html.replace(\n",
    "    '<span class=\"old-price\">79₪</span> ⟶ <span class=\"new-price\">70₪',\n",
    "    '<span class=\"old-price\">79₪</span> ⟶ <span class=\"new-price\">70₪'\n",
    ")\n",
    "\n",
    "# 4. تأكيد روابط واتساب: نضيف token ترميز المسافات (encodeURIComponent)\n",
    "def fix_wa_link(match):\n",
    "    url = match.group(0)\n",
    "    # نتأكد من ترميز المسافة بـ %20\n",
    "    return re.sub(r'\\s+', '%20', url)\n",
    "\n",
    "html = re.sub(\n",
    "    r'https://wa\\.me/972569788731\\?text=[^\"]+',\n",
    "    fix_wa_link,\n",
    "    html\n",
    ")\n",
    "\n",
    "# 5. كتابة التعديلات\n",
    "with io.open(html_path, \"w\", encoding=\"utf-8\") as f:\n",
    "    f.write(html)\n",
    "\n",
    "print(\"✅ تم تطبيق التعديلات الأساسية على promo_offer.html\")\n"
   ]
  },
  {
   "cell_type": "code",
   "execution_count": 3,
   "id": "5f50b8c6-b907-4e66-8512-3724b9779bc6",
   "metadata": {},
   "outputs": [
    {
     "name": "stdout",
     "output_type": "stream",
     "text": [
      "Working dir: /home/ali/0_gh_repos/Product_Store/Pizza_Hot\n",
      "✅ النسخة الاحتياطية حفظت في: promo_offer_backup.html\n"
     ]
    }
   ],
   "source": [
    "# ==== خلية: تصحيح المسار وعمل نسخة احتياطية ====\n",
    "import os, shutil\n",
    "\n",
    "# إذا كنت داخل Pizza_Hot فالمسار:\n",
    "html_path = \"promo_offer.html\"\n",
    "\n",
    "# تأكد من المسار الحالي\n",
    "print(\"Working dir:\", os.getcwd())\n",
    "\n",
    "# تأكد من وجود الملف\n",
    "if not os.path.exists(html_path):\n",
    "    raise FileNotFoundError(f\"لم أجد الملف: {html_path} في {os.getcwd()}\")\n",
    "\n",
    "# أنشئ نسخة احتياطية قبل التعديل\n",
    "backup_path = html_path.replace(\".html\", \"_backup.html\")\n",
    "shutil.copy(html_path, backup_path)\n",
    "print(f\"✅ النسخة الاحتياطية حفظت في: {backup_path}\")\n"
   ]
  },
  {
   "cell_type": "code",
   "execution_count": 4,
   "id": "8889b1b2-4426-471a-852a-7c1760cf2706",
   "metadata": {},
   "outputs": [
    {
     "name": "stdout",
     "output_type": "stream",
     "text": [
      "✅ تمّ تطبيق جميع التعديلات على promo_offer.html\n"
     ]
    }
   ],
   "source": [
    "# ==== خلية 2: تطبيق التعديلات على promo_offer.html ====\n",
    "import io, re\n",
    "\n",
    "# نستخدم المسار النسبي في الدفتر الحالي\n",
    "html_path = \"promo_offer.html\"\n",
    "\n",
    "# 1. قراءة المحتوى\n",
    "with io.open(html_path, \"r\", encoding=\"utf-8\") as f:\n",
    "    html = f.read()\n",
    "\n",
    "# 2. توحيد اسم البراند إلى PIZZA HOT\n",
    "html = re.sub(r'(?i)Pizza\\s*(King|Hot|[^\\s<]+)', 'PIZZA HOT', html)\n",
    "\n",
    "# 3. تصحيح الأسعار:\n",
    "#    - العرض العائلي: 79₪ ⟶ 60₪\n",
    "#    - بيتزا دجاج XL:    79₪ ⟶ 70₪\n",
    "html = html.replace(\n",
    "    '<span class=\"old-price\">79₪</span> ⟶ <span class=\"new-price\">69₪',\n",
    "    '<span class=\"old-price\">79₪</span> ⟶ <span class=\"new-price\">60₪'\n",
    ")\n",
    "# نضمن أن السطر الخاص بـ 70₪ صحيح\n",
    "html = html.replace(\n",
    "    '<span class=\"old-price\">79₪</span> ⟶ <span class=\"new-price\">70₪',\n",
    "    '<span class=\"old-price\">79₪</span> ⟶ <span class=\"new-price\">70₪'\n",
    ")\n",
    "\n",
    "# 4. ترميز مسافات وروابط واتساب\n",
    "def fix_wa_link(match):\n",
    "    return re.sub(r'\\s+', '%20', match.group(0))\n",
    "\n",
    "html = re.sub(\n",
    "    r'https://wa\\.me/972569788731\\?text=[^\"]+',\n",
    "    fix_wa_link,\n",
    "    html\n",
    ")\n",
    "\n",
    "# 5. حفظ التعديلات\n",
    "with io.open(html_path, \"w\", encoding=\"utf-8\") as f:\n",
    "    f.write(html)\n",
    "\n",
    "print(\"✅ تمّ تطبيق جميع التعديلات على promo_offer.html\")\n"
   ]
  },
  {
   "cell_type": "code",
   "execution_count": 5,
   "id": "8dfce186-2a9d-4d4d-aa24-b8930e7d5479",
   "metadata": {},
   "outputs": [
    {
     "ename": "SyntaxError",
     "evalue": "incomplete input (3148892407.py, line 30)",
     "output_type": "error",
     "traceback": [
      "\u001b[0;36m  Cell \u001b[0;32mIn[5], line 30\u001b[0;36m\u001b[0m\n\u001b[0;31m    r\"\"\"\\1\u001b[0m\n\u001b[0m    ^\u001b[0m\n\u001b[0;31mSyntaxError\u001b[0m\u001b[0;31m:\u001b[0m incomplete input\n"
     ]
    }
   ],
   "source": [
    "# ==== خلية Jupyter: patch شامل لتحسين إدارة السلال والاتصال ====\n",
    "import io, re\n",
    "\n",
    "path = \"Pizza_Hot/store.html\"\n",
    "html = io.open(path, encoding=\"utf-8\").read()\n",
    "\n",
    "# 1) إضافة حقل هاتف تحت تسجيل المستخدم\n",
    "html = re.sub(\n",
    "    r'(<div id=\"user-auth\">)',\n",
    "    r\"\"\"\\1\n",
    "      <input id=\"user-phone\" placeholder=\"رقم الهاتف (واتساب)\" />\"\"\",\n",
    "    html)\n",
    "\n",
    "# 2) تحويل قائمة السلال إلى Tabs مع زر دمج\n",
    "html = re.sub(\n",
    "    r'(<div id=\"cart-controls\".*?>)',\n",
    "    r\"\"\"\\1\n",
    "      <!-- تبويبات السلال -->\n",
    "      <div id=\"cart-tabs\" style=\"margin:10px 0;\">\n",
    "        <button class=\"tab-btn\" data-target=\"cart-1\">سلة 1</button>\n",
    "        <button class=\"tab-btn\" data-target=\"cart-2\">سلة 2</button>\n",
    "        <button id=\"merge-carts\">🔀 دمج السلال</button>\n",
    "      </div>\"\"\",\n",
    "    html\n",
    ")\n",
    "\n",
    "# 3) تضمين رقم الهاتف في رسالة واتساب\n",
    "html = re.sub(\n",
    "    r'(msg = \\'مرحبًا، أرغب في الطلب التالي:%0A\\';)',\n",
    "    r\"\"\"\\1\n",
    "    // إحضر"
   ]
  },
  {
   "cell_type": "code",
   "execution_count": 6,
   "id": "a7aceee8-9a72-419a-9955-51d201c1dc8a",
   "metadata": {},
   "outputs": [
    {
     "name": "stderr",
     "output_type": "stream",
     "text": [
      "bash: line 1: apply_patch: command not found\n"
     ]
    },
    {
     "ename": "CalledProcessError",
     "evalue": "Command 'b'apply_patch << \\'EOF\\'\\n*** Begin Patch\\n*** Update File: Pizza_Hot/store.html\\n@@ <div id=\"user-auth\">\\n-     <button id=\"login-btn\">\\xf0\\x9f\\x94\\x91 \\xd8\\xaa\\xd8\\xb3\\xd8\\xac\\xd9\\x8a\\xd9\\x84</button>\\n+     <button id=\"login-btn\">\\xf0\\x9f\\x94\\x91 \\xd8\\xaa\\xd8\\xb3\\xd8\\xac\\xd9\\x8a\\xd9\\x84</button>\\n+     <input id=\"user-phone\" placeholder=\"\\xd8\\xb1\\xd9\\x82\\xd9\\x85 \\xd8\\xa7\\xd9\\x84\\xd9\\x87\\xd8\\xa7\\xd8\\xaa\\xd9\\x81 (\\xd9\\x88\\xd8\\xa7\\xd8\\xaa\\xd8\\xb3\\xd8\\xa7\\xd8\\xa8)\" />\\n*** End Patch\\nEOF\\n'' returned non-zero exit status 127.",
     "output_type": "error",
     "traceback": [
      "\u001b[0;31m---------------------------------------------------------------------------\u001b[0m",
      "\u001b[0;31mCalledProcessError\u001b[0m                        Traceback (most recent call last)",
      "Cell \u001b[0;32mIn[6], line 1\u001b[0m\n\u001b[0;32m----> 1\u001b[0m \u001b[43mget_ipython\u001b[49m\u001b[43m(\u001b[49m\u001b[43m)\u001b[49m\u001b[38;5;241;43m.\u001b[39;49m\u001b[43mrun_cell_magic\u001b[49m\u001b[43m(\u001b[49m\u001b[38;5;124;43m'\u001b[39;49m\u001b[38;5;124;43mbash\u001b[39;49m\u001b[38;5;124;43m'\u001b[39;49m\u001b[43m,\u001b[49m\u001b[43m \u001b[49m\u001b[38;5;124;43m'\u001b[39;49m\u001b[38;5;124;43m'\u001b[39;49m\u001b[43m,\u001b[49m\u001b[43m \u001b[49m\u001b[38;5;124;43m'\u001b[39;49m\u001b[38;5;124;43mapply_patch << \u001b[39;49m\u001b[38;5;130;43;01m\\'\u001b[39;49;00m\u001b[38;5;124;43mEOF\u001b[39;49m\u001b[38;5;130;43;01m\\'\u001b[39;49;00m\u001b[38;5;130;43;01m\\n\u001b[39;49;00m\u001b[38;5;124;43m*** Begin Patch\u001b[39;49m\u001b[38;5;130;43;01m\\n\u001b[39;49;00m\u001b[38;5;124;43m*** Update File: Pizza_Hot/store.html\u001b[39;49m\u001b[38;5;130;43;01m\\n\u001b[39;49;00m\u001b[38;5;124;43m@@ <div id=\u001b[39;49m\u001b[38;5;124;43m\"\u001b[39;49m\u001b[38;5;124;43muser-auth\u001b[39;49m\u001b[38;5;124;43m\"\u001b[39;49m\u001b[38;5;124;43m>\u001b[39;49m\u001b[38;5;130;43;01m\\n\u001b[39;49;00m\u001b[38;5;124;43m-     <button id=\u001b[39;49m\u001b[38;5;124;43m\"\u001b[39;49m\u001b[38;5;124;43mlogin-btn\u001b[39;49m\u001b[38;5;124;43m\"\u001b[39;49m\u001b[38;5;124;43m>🔑 تسجيل</button>\u001b[39;49m\u001b[38;5;130;43;01m\\n\u001b[39;49;00m\u001b[38;5;124;43m+     <button id=\u001b[39;49m\u001b[38;5;124;43m\"\u001b[39;49m\u001b[38;5;124;43mlogin-btn\u001b[39;49m\u001b[38;5;124;43m\"\u001b[39;49m\u001b[38;5;124;43m>🔑 تسجيل</button>\u001b[39;49m\u001b[38;5;130;43;01m\\n\u001b[39;49;00m\u001b[38;5;124;43m+     <input id=\u001b[39;49m\u001b[38;5;124;43m\"\u001b[39;49m\u001b[38;5;124;43muser-phone\u001b[39;49m\u001b[38;5;124;43m\"\u001b[39;49m\u001b[38;5;124;43m placeholder=\u001b[39;49m\u001b[38;5;124;43m\"\u001b[39;49m\u001b[38;5;124;43mرقم الهاتف (واتساب)\u001b[39;49m\u001b[38;5;124;43m\"\u001b[39;49m\u001b[38;5;124;43m />\u001b[39;49m\u001b[38;5;130;43;01m\\n\u001b[39;49;00m\u001b[38;5;124;43m*** End Patch\u001b[39;49m\u001b[38;5;130;43;01m\\n\u001b[39;49;00m\u001b[38;5;124;43mEOF\u001b[39;49m\u001b[38;5;130;43;01m\\n\u001b[39;49;00m\u001b[38;5;124;43m'\u001b[39;49m\u001b[43m)\u001b[49m\n",
      "File \u001b[0;32m~/anaconda3/envs/sf_env/lib/python3.10/site-packages/IPython/core/interactiveshell.py:2543\u001b[0m, in \u001b[0;36mInteractiveShell.run_cell_magic\u001b[0;34m(self, magic_name, line, cell)\u001b[0m\n\u001b[1;32m   2541\u001b[0m \u001b[38;5;28;01mwith\u001b[39;00m \u001b[38;5;28mself\u001b[39m\u001b[38;5;241m.\u001b[39mbuiltin_trap:\n\u001b[1;32m   2542\u001b[0m     args \u001b[38;5;241m=\u001b[39m (magic_arg_s, cell)\n\u001b[0;32m-> 2543\u001b[0m     result \u001b[38;5;241m=\u001b[39m \u001b[43mfn\u001b[49m\u001b[43m(\u001b[49m\u001b[38;5;241;43m*\u001b[39;49m\u001b[43margs\u001b[49m\u001b[43m,\u001b[49m\u001b[43m \u001b[49m\u001b[38;5;241;43m*\u001b[39;49m\u001b[38;5;241;43m*\u001b[39;49m\u001b[43mkwargs\u001b[49m\u001b[43m)\u001b[49m\n\u001b[1;32m   2545\u001b[0m \u001b[38;5;66;03m# The code below prevents the output from being displayed\u001b[39;00m\n\u001b[1;32m   2546\u001b[0m \u001b[38;5;66;03m# when using magics with decorator @output_can_be_silenced\u001b[39;00m\n\u001b[1;32m   2547\u001b[0m \u001b[38;5;66;03m# when the last Python token in the expression is a ';'.\u001b[39;00m\n\u001b[1;32m   2548\u001b[0m \u001b[38;5;28;01mif\u001b[39;00m \u001b[38;5;28mgetattr\u001b[39m(fn, magic\u001b[38;5;241m.\u001b[39mMAGIC_OUTPUT_CAN_BE_SILENCED, \u001b[38;5;28;01mFalse\u001b[39;00m):\n",
      "File \u001b[0;32m~/anaconda3/envs/sf_env/lib/python3.10/site-packages/IPython/core/magics/script.py:159\u001b[0m, in \u001b[0;36mScriptMagics._make_script_magic.<locals>.named_script_magic\u001b[0;34m(line, cell)\u001b[0m\n\u001b[1;32m    157\u001b[0m \u001b[38;5;28;01melse\u001b[39;00m:\n\u001b[1;32m    158\u001b[0m     line \u001b[38;5;241m=\u001b[39m script\n\u001b[0;32m--> 159\u001b[0m \u001b[38;5;28;01mreturn\u001b[39;00m \u001b[38;5;28;43mself\u001b[39;49m\u001b[38;5;241;43m.\u001b[39;49m\u001b[43mshebang\u001b[49m\u001b[43m(\u001b[49m\u001b[43mline\u001b[49m\u001b[43m,\u001b[49m\u001b[43m \u001b[49m\u001b[43mcell\u001b[49m\u001b[43m)\u001b[49m\n",
      "File \u001b[0;32m~/anaconda3/envs/sf_env/lib/python3.10/site-packages/IPython/core/magics/script.py:336\u001b[0m, in \u001b[0;36mScriptMagics.shebang\u001b[0;34m(self, line, cell)\u001b[0m\n\u001b[1;32m    331\u001b[0m \u001b[38;5;28;01mif\u001b[39;00m args\u001b[38;5;241m.\u001b[39mraise_error \u001b[38;5;129;01mand\u001b[39;00m p\u001b[38;5;241m.\u001b[39mreturncode \u001b[38;5;241m!=\u001b[39m \u001b[38;5;241m0\u001b[39m:\n\u001b[1;32m    332\u001b[0m     \u001b[38;5;66;03m# If we get here and p.returncode is still None, we must have\u001b[39;00m\n\u001b[1;32m    333\u001b[0m     \u001b[38;5;66;03m# killed it but not yet seen its return code. We don't wait for it,\u001b[39;00m\n\u001b[1;32m    334\u001b[0m     \u001b[38;5;66;03m# in case it's stuck in uninterruptible sleep. -9 = SIGKILL\u001b[39;00m\n\u001b[1;32m    335\u001b[0m     rc \u001b[38;5;241m=\u001b[39m p\u001b[38;5;241m.\u001b[39mreturncode \u001b[38;5;129;01mor\u001b[39;00m \u001b[38;5;241m-\u001b[39m\u001b[38;5;241m9\u001b[39m\n\u001b[0;32m--> 336\u001b[0m     \u001b[38;5;28;01mraise\u001b[39;00m CalledProcessError(rc, cell)\n",
      "\u001b[0;31mCalledProcessError\u001b[0m: Command 'b'apply_patch << \\'EOF\\'\\n*** Begin Patch\\n*** Update File: Pizza_Hot/store.html\\n@@ <div id=\"user-auth\">\\n-     <button id=\"login-btn\">\\xf0\\x9f\\x94\\x91 \\xd8\\xaa\\xd8\\xb3\\xd8\\xac\\xd9\\x8a\\xd9\\x84</button>\\n+     <button id=\"login-btn\">\\xf0\\x9f\\x94\\x91 \\xd8\\xaa\\xd8\\xb3\\xd8\\xac\\xd9\\x8a\\xd9\\x84</button>\\n+     <input id=\"user-phone\" placeholder=\"\\xd8\\xb1\\xd9\\x82\\xd9\\x85 \\xd8\\xa7\\xd9\\x84\\xd9\\x87\\xd8\\xa7\\xd8\\xaa\\xd9\\x81 (\\xd9\\x88\\xd8\\xa7\\xd8\\xaa\\xd8\\xb3\\xd8\\xa7\\xd8\\xa8)\" />\\n*** End Patch\\nEOF\\n'' returned non-zero exit status 127."
     ]
    }
   ],
   "source": [
    "%%bash\n",
    "apply_patch << 'EOF'\n",
    "*** Begin Patch\n",
    "*** Update File: Pizza_Hot/store.html\n",
    "@@ <div id=\"user-auth\">\n",
    "-     <button id=\"login-btn\">🔑 تسجيل</button>\n",
    "+     <button id=\"login-btn\">🔑 تسجيل</button>\n",
    "+     <input id=\"user-phone\" placeholder=\"رقم الهاتف (واتساب)\" />\n",
    "*** End Patch\n",
    "EOF\n"
   ]
  },
  {
   "cell_type": "code",
   "execution_count": 7,
   "id": "cc4cc10e-a810-4cc1-8a82-8b27886339c3",
   "metadata": {},
   "outputs": [
    {
     "data": {
      "text/html": [
       "\n",
       "        <iframe\n",
       "            width=\"100%\"\n",
       "            height=\"600\"\n",
       "            src=\"store.html\"\n",
       "            frameborder=\"0\"\n",
       "            allowfullscreen\n",
       "            \n",
       "        ></iframe>\n",
       "        "
      ],
      "text/plain": [
       "<IPython.lib.display.IFrame at 0x7f8bf9748940>"
      ]
     },
     "execution_count": 7,
     "metadata": {},
     "output_type": "execute_result"
    }
   ],
   "source": [
    "from IPython.display import IFrame\n",
    "\n",
    "# حفظ الكود في ملف HTML داخل مجلد المشروع\n",
    "html_code = \"\"\"<!DOCTYPE html>\n",
    "<html lang=\"ar\" dir=\"rtl\">\n",
    "<!-- ...أكمل الكود الكامل هنا كما في الأجزاء الثلاثة... -->\n",
    "</html>\"\"\"\n",
    "\n",
    "with open(\"store.html\", \"w\", encoding=\"utf-8\") as f:\n",
    "    f.write(html_code)\n",
    "\n",
    "# عرض الصفحة داخل Jupyter\n",
    "IFrame(src=\"store.html\", width=\"100%\", height=600)\n"
   ]
  },
  {
   "cell_type": "code",
   "execution_count": 8,
   "id": "5c83ffd6-a0a2-4928-93bf-e2d8cce4c3f0",
   "metadata": {},
   "outputs": [
    {
     "ename": "FileNotFoundError",
     "evalue": "[Errno 2] No such file or directory: 'Pizza_Hot/store.html'",
     "output_type": "error",
     "traceback": [
      "\u001b[0;31m---------------------------------------------------------------------------\u001b[0m",
      "\u001b[0;31mFileNotFoundError\u001b[0m                         Traceback (most recent call last)",
      "Cell \u001b[0;32mIn[8], line 1\u001b[0m\n\u001b[0;32m----> 1\u001b[0m \u001b[38;5;28;01mwith\u001b[39;00m \u001b[38;5;28;43mopen\u001b[39;49m\u001b[43m(\u001b[49m\u001b[38;5;124;43m\"\u001b[39;49m\u001b[38;5;124;43mPizza_Hot/store.html\u001b[39;49m\u001b[38;5;124;43m\"\u001b[39;49m\u001b[43m,\u001b[49m\u001b[43m \u001b[49m\u001b[38;5;124;43m\"\u001b[39;49m\u001b[38;5;124;43mr+\u001b[39;49m\u001b[38;5;124;43m\"\u001b[39;49m\u001b[43m,\u001b[49m\u001b[43m \u001b[49m\u001b[43mencoding\u001b[49m\u001b[38;5;241;43m=\u001b[39;49m\u001b[38;5;124;43m\"\u001b[39;49m\u001b[38;5;124;43mutf-8\u001b[39;49m\u001b[38;5;124;43m\"\u001b[39;49m\u001b[43m)\u001b[49m \u001b[38;5;28;01mas\u001b[39;00m f:\n\u001b[1;32m      2\u001b[0m     html \u001b[38;5;241m=\u001b[39m f\u001b[38;5;241m.\u001b[39mread()\n\u001b[1;32m      4\u001b[0m     \u001b[38;5;66;03m# الأصناف الجديدة\u001b[39;00m\n",
      "File \u001b[0;32m~/anaconda3/envs/sf_env/lib/python3.10/site-packages/IPython/core/interactiveshell.py:324\u001b[0m, in \u001b[0;36m_modified_open\u001b[0;34m(file, *args, **kwargs)\u001b[0m\n\u001b[1;32m    317\u001b[0m \u001b[38;5;28;01mif\u001b[39;00m file \u001b[38;5;129;01min\u001b[39;00m {\u001b[38;5;241m0\u001b[39m, \u001b[38;5;241m1\u001b[39m, \u001b[38;5;241m2\u001b[39m}:\n\u001b[1;32m    318\u001b[0m     \u001b[38;5;28;01mraise\u001b[39;00m \u001b[38;5;167;01mValueError\u001b[39;00m(\n\u001b[1;32m    319\u001b[0m         \u001b[38;5;124mf\u001b[39m\u001b[38;5;124m\"\u001b[39m\u001b[38;5;124mIPython won\u001b[39m\u001b[38;5;124m'\u001b[39m\u001b[38;5;124mt let you open fd=\u001b[39m\u001b[38;5;132;01m{\u001b[39;00mfile\u001b[38;5;132;01m}\u001b[39;00m\u001b[38;5;124m by default \u001b[39m\u001b[38;5;124m\"\u001b[39m\n\u001b[1;32m    320\u001b[0m         \u001b[38;5;124m\"\u001b[39m\u001b[38;5;124mas it is likely to crash IPython. If you know what you are doing, \u001b[39m\u001b[38;5;124m\"\u001b[39m\n\u001b[1;32m    321\u001b[0m         \u001b[38;5;124m\"\u001b[39m\u001b[38;5;124myou can use builtins\u001b[39m\u001b[38;5;124m'\u001b[39m\u001b[38;5;124m open.\u001b[39m\u001b[38;5;124m\"\u001b[39m\n\u001b[1;32m    322\u001b[0m     )\n\u001b[0;32m--> 324\u001b[0m \u001b[38;5;28;01mreturn\u001b[39;00m \u001b[43mio_open\u001b[49m\u001b[43m(\u001b[49m\u001b[43mfile\u001b[49m\u001b[43m,\u001b[49m\u001b[43m \u001b[49m\u001b[38;5;241;43m*\u001b[39;49m\u001b[43margs\u001b[49m\u001b[43m,\u001b[49m\u001b[43m \u001b[49m\u001b[38;5;241;43m*\u001b[39;49m\u001b[38;5;241;43m*\u001b[39;49m\u001b[43mkwargs\u001b[49m\u001b[43m)\u001b[49m\n",
      "\u001b[0;31mFileNotFoundError\u001b[0m: [Errno 2] No such file or directory: 'Pizza_Hot/store.html'"
     ]
    }
   ],
   "source": [
    "with open(\"Pizza_Hot/store.html\", \"r+\", encoding=\"utf-8\") as f:\n",
    "    html = f.read()\n",
    "    \n",
    "    # الأصناف الجديدة\n",
    "    new_pizza_rows = \"\"\"\n",
    "<tr data-item=\"بيتزا سلامي\">\n",
    "  <td>بيتزا سلامي</td>\n",
    "  <td>\n",
    "    <select class=\"size\">\n",
    "      <option value=\"55\">XL – 55₪</option>\n",
    "      <option value=\"40\">L – 40₪</option>\n",
    "      <option value=\"23\">M – 23₪</option>\n",
    "      <option value=\"15\">S – 15₪</option>\n",
    "    </select>\n",
    "  </td>\n",
    "  <td><span class=\"price\">55₪</span></td>\n",
    "  <td><input class=\"qty\" type=\"number\" min=\"1\" value=\"1\" /></td>\n",
    "  <td><button class=\"add-btn\">أضف</button></td>\n",
    "</tr>\n",
    "\n",
    "<tr data-item=\"بيتزا نقانق\">\n",
    "  <td>بيتزا نقانق</td>\n",
    "  <td>\n",
    "    <select class=\"size\">\n",
    "      <option value=\"55\">XL – 55₪</option>\n",
    "      <option value=\"40\">L – 40₪</option>\n",
    "      <option value=\"23\">M – 23₪</option>\n",
    "      <option value=\"15\">S – 15₪</option>\n",
    "    </select>\n",
    "  </td>\n",
    "  <td><span class=\"price\">55₪</span></td>\n",
    "  <td><input class=\"qty\" type=\"number\" min=\"1\" value=\"1\" /></td>\n",
    "  <td><button class=\"add-btn\">أضف</button></td>\n",
    "</tr>\n",
    "<!-- أضف المزيد إن رغبت -->\n",
    "\"\"\"\n",
    "\n",
    "    # موقع الإضافة بعد بيتزا دجاج\n",
    "    marker = \"</tr>\"  # نهاية أول صنف بيتزا\n",
    "    insert_at = html.find(marker) + len(marker)\n",
    "    html = html[:insert_at] + new_pizza_rows + html[insert_at:]\n",
    "\n",
    "    # إعادة الكتابة\n",
    "    f.seek(0)\n",
    "    f.write(html)\n",
    "    f.truncate()\n"
   ]
  },
  {
   "cell_type": "code",
   "execution_count": 9,
   "id": "0422a72e-3f88-4dbc-91e6-50bb769ea5c7",
   "metadata": {},
   "outputs": [
    {
     "name": "stdout",
     "output_type": "stream",
     "text": [
      "✅ تم إدراج الأصناف بنجاح داخل store.html\n"
     ]
    }
   ],
   "source": [
    "# 🧠: هذا السكربت يضيف أصناف بيتزا ناقصة داخل جدول <tbody> لعنصر #pizza-menu\n",
    "pizza_rows = \"\"\"\n",
    "<tr data-item=\"بيتزا سلامي\">\n",
    "  <td>بيتزا سلامي</td>\n",
    "  <td>\n",
    "    <select class=\"size\">\n",
    "      <option value=\"55\">XL – 55₪</option>\n",
    "      <option value=\"40\">L – 40₪</option>\n",
    "      <option value=\"23\">M – 23₪</option>\n",
    "      <option value=\"15\">S – 15₪</option>\n",
    "    </select>\n",
    "  </td>\n",
    "  <td><span class=\"price\">55₪</span></td>\n",
    "  <td><input class=\"qty\" type=\"number\" min=\"1\" value=\"1\" /></td>\n",
    "  <td><button class=\"add-btn\">أضف</button></td>\n",
    "</tr>\n",
    "\n",
    "<tr data-item=\"بيتزا نقانق\">\n",
    "  <td>بيتزا نقانق</td>\n",
    "  <td>\n",
    "    <select class=\"size\">\n",
    "      <option value=\"55\">XL – 55₪</option>\n",
    "      <option value=\"40\">L – 40₪</option>\n",
    "      <option value=\"23\">M – 23₪</option>\n",
    "      <option value=\"15\">S – 15₪</option>\n",
    "    </select>\n",
    "  </td>\n",
    "  <td><span class=\"price\">55₪</span></td>\n",
    "  <td><input class=\"qty\" type=\"number\" min=\"1\" value=\"1\" /></td>\n",
    "  <td><button class=\"add-btn\">أضف</button></td>\n",
    "</tr>\n",
    "\n",
    "<tr data-item=\"بيتزا تونة\">\n",
    "  <td>بيتزا تونة</td>\n",
    "  <td>\n",
    "    <select class=\"size\">\n",
    "      <option value=\"55\">XL – 55₪</option>\n",
    "      <option value=\"40\">L – 40₪</option>\n",
    "      <option value=\"23\">M – 23₪</option>\n",
    "      <option value=\"15\">S – 15₪</option>\n",
    "    </select>\n",
    "  </td>\n",
    "  <td><span class=\"price\">55₪</span></td>\n",
    "  <td><input class=\"qty\" type=\"number\" min=\"1\" value=\"1\" /></td>\n",
    "  <td><button class=\"add-btn\">أضف</button></td>\n",
    "</tr>\n",
    "\n",
    "<tr data-item=\"بيتزا مارجريتا\">\n",
    "  <td>بيتزا مارجريتا</td>\n",
    "  <td>\n",
    "    <select class=\"size\">\n",
    "      <option value=\"50\">XL – 50₪</option>\n",
    "      <option value=\"38\">L – 38₪</option>\n",
    "      <option value=\"20\">M – 20₪</option>\n",
    "      <option value=\"14\">S – 14₪</option>\n",
    "    </select>\n",
    "  </td>\n",
    "  <td><span class=\"price\">50₪</span></td>\n",
    "  <td><input class=\"qty\" type=\"number\" min=\"1\" value=\"1\" /></td>\n",
    "  <td><button class=\"add-btn\">أضف</button></td>\n",
    "</tr>\n",
    "\n",
    "<tr data-item=\"كلزوني\">\n",
    "  <td>كلزوني</td>\n",
    "  <td>\n",
    "    <select class=\"size\">\n",
    "      <option value=\"60\">XL – 60₪</option>\n",
    "      <option value=\"40\">L – 40₪</option>\n",
    "      <option value=\"32\">M – 32₪</option>\n",
    "      <option value=\"16\">S – 16₪</option>\n",
    "    </select>\n",
    "  </td>\n",
    "  <td><span class=\"price\">60₪</span></td>\n",
    "  <td><input class=\"qty\" type=\"number\" min=\"1\" value=\"1\" /></td>\n",
    "  <td><button class=\"add-btn\">أضف</button></td>\n",
    "</tr>\n",
    "\"\"\"\n",
    "\n",
    "# ✅ تعديل الصفحة\n",
    "filepath = \"/home/ali/0_gh_repos/Product_Store/Pizza_Hot/store.html\"\n",
    "with open(filepath, \"r+\", encoding=\"utf-8\") as f:\n",
    "    html = f.read()\n",
    "    tbody_start = html.find('<tbody>')\n",
    "    tbody_end = html.find('</tbody>', tbody_start)\n",
    "\n",
    "    if tbody_start != -1 and tbody_end != -1:\n",
    "        insertion_point = tbody_end\n",
    "        html = html[:insertion_point] + pizza_rows + html[insertion_point:]\n",
    "        f.seek(0)\n",
    "        f.write(html)\n",
    "        f.truncate()\n",
    "        print(\"✅ تم إدراج الأصناف بنجاح داخل store.html\")\n",
    "    else:\n",
    "        print(\"⚠️ لم يتم العثور على جدول بيتزا\")\n"
   ]
  },
  {
   "cell_type": "code",
   "execution_count": 10,
   "id": "e51510f4-d0c1-42d1-81c7-6848ae347f9d",
   "metadata": {},
   "outputs": [
    {
     "name": "stdout",
     "output_type": "stream",
     "text": [
      "✅ تم إضافة بطاطا كبير و زنجر صغير إلى store.html بنجاح.\n"
     ]
    }
   ],
   "source": [
    "# 👇 يضيف \"بطاطا كبير\" و\"زنجر صغير\" داخل جدول sides-menu\n",
    "\n",
    "new_rows = \"\"\"\n",
    "<tr data-item=\"بطاطا كبير\" data-price=\"10\">\n",
    "  <td>بطاطا كبير</td><td>10₪</td>\n",
    "  <td><input class=\"qty\" type=\"number\" min=\"1\" value=\"1\" /></td>\n",
    "  <td><button class=\"add-btn\">أضف</button></td>\n",
    "</tr>\n",
    "\n",
    "<tr data-item=\"زنجر صغير\" data-price=\"12\">\n",
    "  <td>زنجر صغير</td><td>12₪</td>\n",
    "  <td><input class=\"qty\" type=\"number\" min=\"1\" value=\"1\" /></td>\n",
    "  <td><button class=\"add-btn\">أضف</button></td>\n",
    "</tr>\n",
    "\"\"\"\n",
    "\n",
    "file_path = \"/home/ali/0_gh_repos/Product_Store/Pizza_Hot/store.html\"\n",
    "\n",
    "with open(file_path, \"r+\", encoding=\"utf-8\") as f:\n",
    "    content = f.read()\n",
    "    start = content.find('<table id=\"sides-menu\">')\n",
    "    tbody_start = content.find('<tbody>', start)\n",
    "    tbody_end = content.find('</tbody>', tbody_start)\n",
    "\n",
    "    if tbody_end != -1:\n",
    "        content = content[:tbody_end] + new_rows + content[tbody_end:]\n",
    "        f.seek(0)\n",
    "        f.write(content)\n",
    "        f.truncate()\n",
    "        print(\"✅ تم إضافة بطاطا كبير و زنجر صغير إلى store.html بنجاح.\")\n",
    "    else:\n",
    "        print(\"❌ لم يتم العثور على جدول sides-menu.\")\n"
   ]
  },
  {
   "cell_type": "code",
   "execution_count": 11,
   "id": "b27ec4c1-da04-48a5-8df3-4b969ac2d552",
   "metadata": {},
   "outputs": [
    {
     "name": "stdout",
     "output_type": "stream",
     "text": [
      "✅ تم إنشاء cart.js في: /home/ali/0_gh_repos/Product_Store/Pizza_Hot/cart.js\n",
      "✅ تم ربط promo_offer.html بملف cart.js\n"
     ]
    }
   ],
   "source": [
    "# 🛠️ خطوة واحدة لإنشاء cart.js وربطه مع promo_offer.html تلقائيًا\n",
    "\n",
    "cart_code = '''\n",
    "// cart.js — سلة موحدة لجميع الصفحات\n",
    "let userName = localStorage.getItem(\"userName\") || \"\";\n",
    "let userAddr = localStorage.getItem(\"userAddr\") || \"\";\n",
    "let key = \"orders_\" + (userName || \"guest\");\n",
    "let cartData = JSON.parse(localStorage.getItem(key) || \"[]\");\n",
    "\n",
    "function addToCart(item, price, qty = 1) {\n",
    "  for (let i = 0; i < qty; i++) {\n",
    "    cartData.push({ item, price });\n",
    "  }\n",
    "  localStorage.setItem(key, JSON.stringify(cartData));\n",
    "  renderCart();\n",
    "}\n",
    "\n",
    "function renderCart() {\n",
    "  const list = document.getElementById(\"cart-items\");\n",
    "  const totalEl = document.getElementById(\"cart-total\");\n",
    "  const waLink = document.getElementById(\"whatsapp-link\");\n",
    "  if (!list || !totalEl || !waLink) return;\n",
    "\n",
    "  list.innerHTML = \"\";\n",
    "  let total = 0;\n",
    "  let msg = `مرحبًا ${userName || \"ضيف\"}%0A`;\n",
    "  if (userAddr) msg += `📍 ${userAddr}%0A`;\n",
    "  msg += \"طلب:%0A\";\n",
    "\n",
    "  cartData.forEach(({ item, price }) => {\n",
    "    const li = document.createElement(\"li\");\n",
    "    li.textContent = `${item} – ${price}₪`;\n",
    "    list.appendChild(li);\n",
    "    total += price;\n",
    "    msg += `• ${item} – ${price}₪%0A`;\n",
    "  });\n",
    "\n",
    "  totalEl.textContent = total + \"₪\";\n",
    "  msg += `------------------%0Aالإجمالي: ${total}₪`;\n",
    "  waLink.href = \"https://wa.me/972569788731?text=\" + encodeURIComponent(msg);\n",
    "}\n",
    "\n",
    "document.addEventListener(\"DOMContentLoaded\", renderCart);\n",
    "'''\n",
    "\n",
    "import os\n",
    "\n",
    "# 1. حفظ ملف cart.js داخل مجلد المشروع\n",
    "cart_path = \"/home/ali/0_gh_repos/Product_Store/Pizza_Hot/cart.js\"\n",
    "with open(cart_path, \"w\", encoding=\"utf-8\") as f:\n",
    "    f.write(cart_code.strip())\n",
    "\n",
    "print(f\"✅ تم إنشاء cart.js في: {cart_path}\")\n",
    "\n",
    "# 2. إدراج السكربت في ملف promo_offer.html\n",
    "html_path = \"/home/ali/0_gh_repos/Product_Store/Pizza_Hot/promo_offer.html\"\n",
    "with open(html_path, \"r+\", encoding=\"utf-8\") as f:\n",
    "    html = f.read()\n",
    "    if 'cart.js' not in html:\n",
    "        insert_index = html.find(\"</head>\")\n",
    "        if insert_index != -1:\n",
    "            html = html[:insert_index] + '\\n  <script src=\"cart.js\"></script>\\n' + html[insert_index:]\n",
    "            f.seek(0)\n",
    "            f.write(html)\n",
    "            f.truncate()\n",
    "            print(\"✅ تم ربط promo_offer.html بملف cart.js\")\n",
    "        else:\n",
    "            print(\"⚠️ لم يتم العثور على </head> في promo_offer.html\")\n",
    "    else:\n",
    "        print(\"ℹ️ promo_offer.html مرتبطة مسبقًا بـ cart.js\")\n"
   ]
  },
  {
   "cell_type": "code",
   "execution_count": 12,
   "id": "19ef0ce6-465b-4ec7-b6bb-dd73af7cc273",
   "metadata": {},
   "outputs": [
    {
     "name": "stdout",
     "output_type": "stream",
     "text": [
      "On branch main\n",
      "Your branch is up to date with 'origin/main'.\n",
      "\n",
      "Changes not staged for commit:\n",
      "  (use \"git add <file>...\" to update what will be committed)\n",
      "  (use \"git restore <file>...\" to discard changes in working directory)\n",
      "\t\u001b[31mmodified:   Pizza_Hot/promo_editor.ipynb\u001b[m\n",
      "\t\u001b[31mmodified:   Pizza_Hot/promo_offer.html\u001b[m\n",
      "\t\u001b[31mmodified:   Pizza_Hot/store.html\u001b[m\n",
      "\n",
      "Untracked files:\n",
      "  (use \"git add <file>...\" to include in what will be committed)\n",
      "\t\u001b[31mPizza_Hot/cart.js\u001b[m\n",
      "\n",
      "no changes added to commit (use \"git add\" and/or \"git commit -a\")\n"
     ]
    }
   ],
   "source": [
    "!git -C /home/ali/0_gh_repos/Product_Store status\n"
   ]
  },
  {
   "cell_type": "code",
   "execution_count": null,
   "id": "edead709-6639-4b98-9d5b-30839509805c",
   "metadata": {},
   "outputs": [],
   "source": []
  }
 ],
 "metadata": {
  "kernelspec": {
   "display_name": "Python 3 (ipykernel)",
   "language": "python",
   "name": "python3"
  },
  "language_info": {
   "codemirror_mode": {
    "name": "ipython",
    "version": 3
   },
   "file_extension": ".py",
   "mimetype": "text/x-python",
   "name": "python",
   "nbconvert_exporter": "python",
   "pygments_lexer": "ipython3",
   "version": "3.10.18"
  }
 },
 "nbformat": 4,
 "nbformat_minor": 5
}
