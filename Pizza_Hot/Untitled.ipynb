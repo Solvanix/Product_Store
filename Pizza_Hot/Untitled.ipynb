{
 "cells": [
  {
   "cell_type": "code",
   "execution_count": 1,
   "id": "f7344eb1-2221-4058-9af7-dd50c426f7ed",
   "metadata": {},
   "outputs": [
    {
     "ename": "ModuleNotFoundError",
     "evalue": "No module named 'bidi'",
     "output_type": "error",
     "traceback": [
      "\u001b[0;31m---------------------------------------------------------------------------\u001b[0m",
      "\u001b[0;31mModuleNotFoundError\u001b[0m                       Traceback (most recent call last)",
      "Cell \u001b[0;32mIn[1], line 3\u001b[0m\n\u001b[1;32m      1\u001b[0m \u001b[38;5;28;01mfrom\u001b[39;00m\u001b[38;5;250m \u001b[39m\u001b[38;5;21;01mPIL\u001b[39;00m\u001b[38;5;250m \u001b[39m\u001b[38;5;28;01mimport\u001b[39;00m Image, ImageDraw, ImageFont\n\u001b[1;32m      2\u001b[0m \u001b[38;5;28;01mimport\u001b[39;00m\u001b[38;5;250m \u001b[39m\u001b[38;5;21;01marabic_reshaper\u001b[39;00m\n\u001b[0;32m----> 3\u001b[0m \u001b[38;5;28;01mfrom\u001b[39;00m\u001b[38;5;250m \u001b[39m\u001b[38;5;21;01mbidi\u001b[39;00m\u001b[38;5;21;01m.\u001b[39;00m\u001b[38;5;21;01malgorithm\u001b[39;00m\u001b[38;5;250m \u001b[39m\u001b[38;5;28;01mimport\u001b[39;00m get_display\n\u001b[1;32m      4\u001b[0m \u001b[38;5;28;01mimport\u001b[39;00m\u001b[38;5;250m \u001b[39m\u001b[38;5;21;01mos\u001b[39;00m\n\u001b[1;32m      6\u001b[0m \u001b[38;5;66;03m# مسارات الصور والخط\u001b[39;00m\n",
      "\u001b[0;31mModuleNotFoundError\u001b[0m: No module named 'bidi'"
     ]
    }
   ],
   "source": [
    "from PIL import Image, ImageDraw, ImageFont\n",
    "import arabic_reshaper\n",
    "from bidi.algorithm import get_display\n",
    "import os\n",
    "\n",
    "# مسارات الصور والخط\n",
    "bg_path = \"assets/images/pizza_brick_oven.jpg\"\n",
    "cola_path = \"assets/decor/bottle_fizz_cola.png\"\n",
    "logo_path = \"assets/brand/logo_pizzahot_norepeat_clean.png\"\n",
    "steam_path = \"assets/decor/decor_splash_coffee_curve.png\"\n",
    "font_path = \"assets/fonts/Cairo-Bold.ttf\"  # تأكد أن الخط موجود بهذا المسار\n",
    "\n",
    "# فتح الخلفية وتحويلها إلى RGBA\n",
    "bg = Image.open(bg_path).convert(\"RGBA\")\n",
    "draw = ImageDraw.Draw(bg)\n"
   ]
  },
  {
   "cell_type": "code",
   "execution_count": 2,
   "id": "4e138f4d-c43e-4903-9933-81dff93439fe",
   "metadata": {},
   "outputs": [
    {
     "name": "stdout",
     "output_type": "stream",
     "text": [
      "Collecting arabic-reshaper\n",
      "  Downloading arabic_reshaper-3.0.0-py3-none-any.whl.metadata (12 kB)\n",
      "Downloading arabic_reshaper-3.0.0-py3-none-any.whl (20 kB)\n",
      "Installing collected packages: arabic-reshaper\n",
      "Successfully installed arabic-reshaper-3.0.0\n"
     ]
    }
   ],
   "source": [
    "!pip install arabic-reshaper\n"
   ]
  },
  {
   "cell_type": "code",
   "execution_count": 2,
   "id": "9187a553-498f-4744-8fde-0da8e40f0ee1",
   "metadata": {},
   "outputs": [
    {
     "name": "stdout",
     "output_type": "stream",
     "text": [
      "Collecting python-bidi\n",
      "  Downloading python_bidi-0.6.6-cp310-cp310-manylinux_2_17_x86_64.manylinux2014_x86_64.whl.metadata (4.9 kB)\n",
      "Downloading python_bidi-0.6.6-cp310-cp310-manylinux_2_17_x86_64.manylinux2014_x86_64.whl (293 kB)\n",
      "Installing collected packages: python-bidi\n",
      "Successfully installed python-bidi-0.6.6\n"
     ]
    }
   ],
   "source": [
    "!pip install python-bidi\n"
   ]
  },
  {
   "cell_type": "code",
   "execution_count": null,
   "id": "2abc339b-58db-41b2-95ef-76ca8cbbbd24",
   "metadata": {},
   "outputs": [],
   "source": []
  }
 ],
 "metadata": {
  "kernelspec": {
   "display_name": "Python 3 (ipykernel)",
   "language": "python",
   "name": "python3"
  },
  "language_info": {
   "codemirror_mode": {
    "name": "ipython",
    "version": 3
   },
   "file_extension": ".py",
   "mimetype": "text/x-python",
   "name": "python",
   "nbconvert_exporter": "python",
   "pygments_lexer": "ipython3",
   "version": "3.10.18"
  }
 },
 "nbformat": 4,
 "nbformat_minor": 5
}
