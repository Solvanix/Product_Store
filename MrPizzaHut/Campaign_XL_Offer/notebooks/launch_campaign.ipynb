{
 "cells": [
  {
   "cell_type": "code",
   "execution_count": null,
   "id": "d29c9338-b28f-4b8c-860b-c136287427a2",
   "metadata": {},
   "outputs": [],
   "source": []
  }
 ],
 "metadata": {
  "kernelspec": {
   "display_name": "",
   "name": ""
  },
  "language_info": {
   "name": ""
  }
 },
 "nbformat": 4,
 "nbformat_minor": 5
}
